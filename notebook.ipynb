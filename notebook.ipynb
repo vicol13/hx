{
 "cells": [
  {
   "cell_type": "markdown",
   "metadata": {},
   "source": []
  },
  {
   "cell_type": "code",
   "execution_count": null,
   "metadata": {},
   "outputs": [],
   "source": [
    "from engine import Engine\n",
    "eng = Engine()"
   ]
  },
  {
   "cell_type": "code",
   "execution_count": 2,
   "metadata": {},
   "outputs": [
    {
     "data": {
      "text/plain": [
       "defaultdict(list,\n",
       "            {'AI Strategy is Now a Nation-Defining Capability': ['Could you share about your role in crafting the National AI Roadmap under the Philippine Department of Trade and Industry? In what ways is this project important strategically for the Philippines?Many enterprises and organizations already consider data science and artificial intelligence (DSAI) as strategic capabilities',\n",
       "              'Chris Monetrola to design and craft the Philippines’ roadmap on AI',\n",
       "              'Another part of my role is to review existing AI policies and strategies published by other countries, to identify best policies and practices that the Philippines could adopt, and to customize and tailor-fit said principles and practices to our culture',\n",
       "              'Finally, the DTI also tasked us to analyze the country’s policy landscape and ecosystem for AI',\n",
       "              'Like military capabilities, AI is now widely considered a nation-defining capability, especially since AI cuts across industries and sectors',\n",
       "              'What is your favorite project or a project you’re particularly proud of?Besides designing the National AI Roadmap, I am particularly proud of a recent contact-tracing project with a multinational corporation (the Aboitiz Group), our academic institution (the Asian Institute of Management), various government agencies led by the National Economic Development Authority, and some local government units',\n",
       "              'Its formulation was our first step towards developing and implementing AI strategies, programs, and projects to especially help local firms become more productive and competitive'],\n",
       "             'Are You OK with Imperfect Algorithms and Word Clouds?': ['The glory days of artificial intelligence (AI) have descended upon us as most, if not all, of new technologies/apps purport to leverage AI'],\n",
       "             'How AI technology Works, Explained': ['AI technology has a wide range of potential applications',\n",
       "              'However, it was not until the mid-20th century that AI technology began to make significant progress, thanks to the development of new computing technologies',\n",
       "              'Essentially, AI technology is able to take in new information and learn from it in order to improve its performance',\n",
       "              'AI technology has made significant strides in recent years, thanks to the increasing power of computers and the availability of large data sets',\n",
       "              'AI technology is a field of computer science focused on the creation of intelligent agents, which are systems that can reason, learn, and act autonomously',\n",
       "              'AI technology is based on the principles of self-learning',\n",
       "              'AI technology has its roots in the fields of philosophy and psychology, as early thinkers attempted to understand the nature of human intelligence and build machines that could replicate it',\n",
       "              'However, there are still many challenges that need to be addressed before AI technology can reach its full potential',\n",
       "              'The ultimate goal of AI technology is to build machines that can perform tasks that require human intelligence, such as understanding natural language and recognizing objects',\n",
       "              'It could also be used to improve the accuracy of medical diagnoses, or to create more realistic and believable AI characters in video games and movies'],\n",
       "             'Data Science Experiments in Government': ['AI in healthcare is an exciting field']})"
      ]
     },
     "execution_count": 2,
     "metadata": {},
     "output_type": "execute_result"
    }
   ],
   "source": [
    "eng.search('ai')"
   ]
  }
 ],
 "metadata": {
  "kernelspec": {
   "display_name": "Python 3.8.9 ('venv': venv)",
   "language": "python",
   "name": "python3"
  },
  "language_info": {
   "codemirror_mode": {
    "name": "ipython",
    "version": 3
   },
   "file_extension": ".py",
   "mimetype": "text/x-python",
   "name": "python",
   "nbconvert_exporter": "python",
   "pygments_lexer": "ipython3",
   "version": "3.8.9"
  },
  "orig_nbformat": 4,
  "vscode": {
   "interpreter": {
    "hash": "613ae3d80342d6de390a7b0b30da1f6fd39f977b3e219e8edf7ea8a1edca6d89"
   }
  }
 },
 "nbformat": 4,
 "nbformat_minor": 2
}
